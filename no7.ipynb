{
 "cells": [
  {
   "cell_type": "code",
   "execution_count": 2,
   "metadata": {},
   "outputs": [
    {
     "ename": "SyntaxError",
     "evalue": "invalid syntax (2610128647.py, line 11)",
     "output_type": "error",
     "traceback": [
      "\u001b[1;36m  Cell \u001b[1;32mIn[2], line 11\u001b[1;36m\u001b[0m\n\u001b[1;33m    'C' : {'B', 'G'},\u001b[0m\n\u001b[1;37m        ^\u001b[0m\n\u001b[1;31mSyntaxError\u001b[0m\u001b[1;31m:\u001b[0m invalid syntax\n"
     ]
    }
   ],
   "source": [
    "graph1 = {\n",
    "\n",
    "           'A' : {'B', 'D', 'E'},\n",
    "           'B' : {'A', 'C', 'E', 'F'},\n",
    "           'C' : {'B', 'G'},\n",
    "           'D' : {'A', 'E'},\n",
    "           'E' : {'A', 'B', 'D'},\n",
    "           'F' : {'B', 'G'},\n",
    "           'G' : {'C', 'F'}\n",
    "           \n",
    "}\n",
    "\n",
    "graph2 = {\n",
    "           'A' : {'B', 'D', 'E'},\n",
    "           'B' : {'A', 'C', 'E', 'F'},\n",
    "           'C' : {'B', 'G'},\n",
    "           'D' : {'A', 'E'},\n",
    "           'E' : {'A', 'B', 'D'},\n",
    "           'F' : {'B', 'G'},\n",
    "           'G' : {'C', 'F'},\n",
    "           'H' : {}\n",
    "}\n",
    "\n",
    "visited = set()\n",
    "\n",
    "def dfs(graph, start, visited):\n",
    "    if start not in visited:     # 시작할려는 지점이 방문하지 않았다면\n",
    "        visited.add(start)       # 방문 체크\n",
    "        print(start, end='')\n",
    "        nbr = graph[start] - visited # nbr: 인접정점중 방문하지 않은 정점\n",
    "        for v in nbr:\n",
    "            dfs(graph, v, visited)\n",
    "\n",
    "\n",
    "dfs(graph1, 'A', visited)"
   ]
  },
  {
   "cell_type": "code",
   "execution_count": null,
   "metadata": {},
   "outputs": [],
   "source": []
  }
 ],
 "metadata": {
  "kernelspec": {
   "display_name": "Python 3",
   "language": "python",
   "name": "python3"
  },
  "language_info": {
   "codemirror_mode": {
    "name": "ipython",
    "version": 3
   },
   "file_extension": ".py",
   "mimetype": "text/x-python",
   "name": "python",
   "nbconvert_exporter": "python",
   "pygments_lexer": "ipython3",
   "version": "3.12.2"
  }
 },
 "nbformat": 4,
 "nbformat_minor": 2
}
